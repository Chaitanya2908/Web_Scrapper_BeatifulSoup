{
  "cells": [
    {
      "cell_type": "code",
      "execution_count": null,
      "metadata": {
        "id": "yk4B9SQMLAAo"
      },
      "outputs": [],
      "source": [
        "import requests\n",
        "from bs4 import BeautifulSoup\n",
        "import csv\n",
        "import time\n",
        "import pandas as pd"
      ]
    },
    {
      "cell_type": "code",
      "execution_count": null,
      "metadata": {
        "id": "pljPUKbkLlyV"
      },
      "outputs": [],
      "source": [
        "url = \"https://www.imdb.com/india/top-rated-indian-movies/\""
      ]
    },
    {
      "cell_type": "code",
      "execution_count": null,
      "metadata": {
        "id": "vE4kKfTxNf8e"
      },
      "outputs": [],
      "source": [
        "#HEADERS = {\"usser\":\"Mozilla/5.0 (Windows NT 10.0; Win64; x64) AppleWebKit/537.36 (KHTML, like Gecko) Chrome/138.0.0.0 Safari/537.36\"}\n",
        "HEADERS = {\n",
        "    \"User-Agent\": \"Mozilla/5.0 (Windows NT 10.0; Win64; x64) \"\n",
        "                  \"AppleWebKit/537.36 (KHTML, like Gecko) \"\n",
        "                  \"Chrome/115.0.0.0 Safari/537.36\",\n",
        "    \"Accept-Language\": \"en-US,en;q=0.9\",\n",
        "    \"Referer\": \"https://www.google.com/\"\n",
        "}"
      ]
    },
    {
      "cell_type": "code",
      "execution_count": null,
      "metadata": {
        "id": "kN7McTHuNwwk"
      },
      "outputs": [],
      "source": [
        "def fetch_url(url):\n",
        "  try:\n",
        "    response = requests.get(url, headers = HEADERS, timeout = 20)\n",
        "    response.raise_for_status()\n",
        "    return response.text\n",
        "  except requests.exceptions.HTTPError as http_error:\n",
        "    print(f\"HTTP Error occured: {http_error}\")\n",
        "  except requests.exceptions.RequestException as request_error:\n",
        "    print(f\"Request Error occured: {request_error}\")\n",
        "  return None"
      ]
    },
    {
      "cell_type": "code",
      "execution_count": null,
      "metadata": {
        "id": "Vqlzhc6VUVbs"
      },
      "outputs": [],
      "source": [
        "def parse_movies(html):\n",
        "  soup = BeautifulSoup(html, \"html.parser\")\n",
        "  movies = []\n",
        "\n",
        "  movie_blocks = soup.find_all(\"div\", class_=\"ipc-metadata-list-item__content-container\")\n",
        "\n",
        "  if not movie_blocks:\n",
        "    print(\"Could not find movie table, Site structure might have changed\")\n",
        "    return movies\n",
        "\n",
        "  for movie in movie_blocks:\n",
        "    title = movie.find(\"span\", attrs={\"data-testid\":\"rank-list-item-title\"}).find(\"span\").extract() or None\n",
        "    title = movie.find(\"span\", attrs={\"data-testid\":\"rank-list-item-title\"}).text.strip()\n",
        "\n",
        "    rating_tag = movie.find(\"span\", class_=\"ipc-rating-star--rating\")\n",
        "    rating = rating_tag.text.strip() if rating_tag else \"N/A\"\n",
        "\n",
        "    movies.append({\n",
        "        \"title\": title,\n",
        "        \"rating\": rating\n",
        "    })\n",
        "\n",
        "  return movies"
      ]
    },
    {
      "cell_type": "code",
      "execution_count": null,
      "metadata": {
        "id": "q2RTgVqSuLYj"
      },
      "outputs": [],
      "source": [
        "def save_to_csv(movies):\n",
        "  df = pd.DataFrame(movies)\n",
        "  df.to_csv(\"movies.csv\", index=False)"
      ]
    },
    {
      "cell_type": "code",
      "execution_count": null,
      "metadata": {
        "colab": {
          "base_uri": "https://localhost:8080/"
        },
        "id": "oMi4iwaf0eLr",
        "outputId": "9443a1f6-ca5c-421b-bd1b-39b8f0c30f77"
      },
      "outputs": [
        {
          "name": "stdout",
          "output_type": "stream",
          "text": [
            "Fetching IMDb Top 250 Indian movies...\n",
            "Parsing movie data...\n",
            "Saving data to CSV...\n",
            "Data fetching, parsing, and saving completed successfully.\n"
          ]
        }
      ],
      "source": [
        "def main():\n",
        "    print(\"Fetching IMDb Top 250 Indian movies...\")\n",
        "    html_content = fetch_url(url)\n",
        "\n",
        "    if not html_content:\n",
        "        print(\"Failed to fetch the webpage.\")\n",
        "        return\n",
        "\n",
        "    print(\"Parsing movie data...\")\n",
        "    movies = parse_movies(html_content)\n",
        "\n",
        "    if not movies:\n",
        "        print(\"No movies found. Exiting.\")\n",
        "        return\n",
        "\n",
        "    print(\"Saving data to CSV...\")\n",
        "    save_to_csv(movies)\n",
        "\n",
        "    print(\"Data fetching, parsing, and saving completed successfully.\")\n",
        "\n",
        "if __name__ == \"__main__\":\n",
        "    main()"
      ]
    }
  ],
  "metadata": {
    "colab": {
      "provenance": []
    },
    "kernelspec": {
      "display_name": "Python 3",
      "name": "python3"
    },
    "language_info": {
      "name": "python"
    }
  },
  "nbformat": 4,
  "nbformat_minor": 0
}
